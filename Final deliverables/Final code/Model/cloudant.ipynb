{
 "cells": [
  {
   "cell_type": "code",
   "execution_count": 2,
   "metadata": {},
   "outputs": [
    {
     "name": "stdout",
     "output_type": "stream",
     "text": [
      "Collecting cloudant\n",
      "  Downloading cloudant-2.15.0-py3-none-any.whl (80 kB)\n",
      "Requirement already satisfied: requests<3.0.0,>=2.7.0 in c:\\users\\raiha\\anaconda3\\lib\\site-packages (from cloudant) (2.27.1)\n",
      "Requirement already satisfied: urllib3<1.27,>=1.21.1 in c:\\users\\raiha\\anaconda3\\lib\\site-packages (from requests<3.0.0,>=2.7.0->cloudant) (1.26.12)\n",
      "Requirement already satisfied: charset-normalizer~=2.0.0 in c:\\users\\raiha\\anaconda3\\lib\\site-packages (from requests<3.0.0,>=2.7.0->cloudant) (2.0.12)\n",
      "Requirement already satisfied: idna<4,>=2.5 in c:\\users\\raiha\\anaconda3\\lib\\site-packages (from requests<3.0.0,>=2.7.0->cloudant) (2.6)\n",
      "Requirement already satisfied: certifi>=2017.4.17 in c:\\users\\raiha\\anaconda3\\lib\\site-packages (from requests<3.0.0,>=2.7.0->cloudant) (2018.4.16)\n",
      "Installing collected packages: cloudant\n",
      "Successfully installed cloudant-2.15.0\n"
     ]
    }
   ],
   "source": [
    "!pip install cloudant"
   ]
  },
  {
   "cell_type": "code",
   "execution_count": 3,
   "metadata": {},
   "outputs": [],
   "source": [
    "from cloudant.client import Cloudant"
   ]
  },
  {
   "cell_type": "code",
   "execution_count": 4,
   "metadata": {},
   "outputs": [],
   "source": [
    "client=Cloudant.iam('a6c9309d-e1a6-4534-b9f0-34616292e4f5-bluemix',\"KQXgAaXnWaiIFKzu7_sqLxKkC3LhO0R1l_JXDayCP3x_\",connect=True)"
   ]
  },
  {
   "cell_type": "code",
   "execution_count": 5,
   "metadata": {},
   "outputs": [],
   "source": [
    "my_database=client.create_database('my_database')"
   ]
  },
  {
   "cell_type": "code",
   "execution_count": null,
   "metadata": {},
   "outputs": [],
   "source": []
  }
 ],
 "metadata": {
  "kernelspec": {
   "display_name": "Python 3",
   "language": "python",
   "name": "python3"
  },
  "language_info": {
   "codemirror_mode": {
    "name": "ipython",
    "version": 3
   },
   "file_extension": ".py",
   "mimetype": "text/x-python",
   "name": "python",
   "nbconvert_exporter": "python",
   "pygments_lexer": "ipython3",
   "version": "3.6.5"
  }
 },
 "nbformat": 4,
 "nbformat_minor": 2
}
