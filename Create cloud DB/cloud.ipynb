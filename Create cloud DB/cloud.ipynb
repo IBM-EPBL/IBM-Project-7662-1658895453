{
 "cells": [
  {
   "cell_type": "code",
   "execution_count": 2,
   "metadata": {},
   "outputs": [],
   "source": [
    "from cloudant.client import Cloudant"
   ]
  },
  {
   "cell_type": "code",
   "execution_count": 4,
   "metadata": {},
   "outputs": [],
   "source": [
    "client=Cloudant.iam('0dd1b5a4-5fd8-47d3-8c4a-fdf2ab0a7e57-bluemix','CapEmyJk6Ax_6C2B9q7vmmIoRHwuY7XB5Uej70BzJXU3',connect=True)"
   ]
  },
  {
   "cell_type": "code",
   "execution_count": null,
   "metadata": {},
   "outputs": [],
   "source": [
    "my_database=client.create_database('my-database')"
   ]
  }
 ],
 "metadata": {
  "kernelspec": {
   "display_name": "Python 3.9.7 64-bit",
   "language": "python",
   "name": "python3"
  },
  "language_info": {
   "codemirror_mode": {
    "name": "ipython",
    "version": 3
   },
   "file_extension": ".py",
   "mimetype": "text/x-python",
   "name": "python",
   "nbconvert_exporter": "python",
   "pygments_lexer": "ipython3",
   "version": "3.9.7"
  },
  "orig_nbformat": 4,
  "vscode": {
   "interpreter": {
    "hash": "47f75b988b08b953e7a4be2132f3b5b90da6f7a319d05822573e42a4913279c2"
   }
  }
 },
 "nbformat": 4,
 "nbformat_minor": 2
}
